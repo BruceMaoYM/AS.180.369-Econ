{
  "cells": [
    {
      "cell_type": "markdown",
      "metadata": {},
      "source": [
        "# 📊 BNPL Statistics & Regression Framework\n",
        "*(Synthesized from CFPB Reports 2022–2025)*\n"
      ]
    },
    {
      "cell_type": "markdown",
      "metadata": {},
      "source": [
        "## **1. Core Data Sources**\n",
        "\n",
        "| Source | Title | Year | Key Variables |\n",
        "|--------|-------|------|---------------|\n",
        "| CFPB (2022) | *Buy Now, Pay Later: Market Trends and Consumer Impacts* | 2022 | Loan growth, charge-off rates, late fees, GMV, industry mix |\n",
        "| CFPB (2023) | *Consumer Use of Buy Now, Pay Later* | 2023 | Demographics, credit utilization, debt levels, delinquencies |\n",
        "| CFPB (2025) | *Consumer Use of Buy Now, Pay Later and Other Unsecured Debt* | 2025 | Comprehensive matched dataset, loan stacking, debt burden analysis |\n",
        "| External | FRED, BLS | 2019-2022 | Macroeconomic controls (inflation, unemployment) |\n"
      ]
    },
    {
      "cell_type": "markdown",
      "metadata": {},
      "source": [
        "## **2. Market Evolution & Scale (2019-2022)**\n",
        "\n",
        "### **Growth Metrics**\n",
        "| Metric | 2019 | 2020 | 2021 | 2022 | Growth |\n",
        "|--------|------|------|------|------|--------|\n",
        "| Daily Applications | ~100K | — | — | >1M | **10x+** |\n",
        "| Approval Rate | 56% | 67% | 78% | 79% | **+23 p.p.** |\n",
        "| Consumer Adoption | — | — | 17.6% | 21.2% | **+3.6 p.p.** |\n",
        "| Heavy Users (% of borrowers) | — | — | 18% | 20% | **+2 p.p.** |\n",
        "| Avg Annual Originations per Borrower | — | — | 8.5 | 9.5 | **+12%** |\n",
        "\n",
        "### **2022 Market Scale (Scaled from 16% Sample)**\n",
        "| Metric | Raw Sample | Scaled Aggregate |\n",
        "|--------|------------|------------------|\n",
        "| Loan Applications | 66.1M | 401.9M |\n",
        "| Originated Loans | 45.6M | 277.3M |\n",
        "| Gross Merchandise Value | $5.6B | $33.8B |\n",
        "| % of Credit Card Spending | — | ~1% |\n"
      ]
    },
    {
      "cell_type": "markdown",
      "metadata": {},
      "source": [
        "## **3. Consumer Demographics & Risk Profile**\n",
        "\n",
        "### **Credit Score Distribution (2021-2022)**\n",
        "| FICO Score Category | Share of Originations | Default Rate | Approval Rate (2022) |\n",
        "|---------------------|----------------------|--------------|---------------------|\n",
        "| No Score | 3.9% | 4.1% | 62% |\n",
        "| Deep Subprime (300-579) | 45.0% | 3.5% | 78% |\n",
        "| Subprime (580-619) | 16.0% | 1.1% | 78% |\n",
        "| Near Prime (620-659) | 12.7% | 0.8% | — |\n",
        "| Prime (660-719) | 13.2% | 0.7% | — |\n",
        "| Super Prime (720-850) | 9.1% | 0.8% | — |\n",
        "\n",
        "### **Age-Based Analysis (2022)**\n",
        "| Age Group | BNPL Adoption | Avg Unsecured Debt | BNPL Share of Debt | Credit Utilization |\n",
        "|-----------|---------------|-------------------|-------------------|-------------------|\n",
        "| 18-24 | 37.1% | $9,068 | 27.9% | 70%+ |\n",
        "| 25-33 | 33.6% | $20,486 | 16.6% | 65%+ |\n",
        "| 34-40 | 28.7% | $25,425 | 16.0% | 60%+ |\n",
        "| 41-50 | 19.1% | $28,991 | 14.1% | 55%+ |\n",
        "| 51-64 | 9.9% | $26,453 | 14.2% | 50%+ |\n",
        "| 65+ | 5.9% | $17,352 | 15.5% | 45%+ |\n",
        "\n",
        "**Key Insights:**\n",
        "- **61% of originations** go to subprime/deep subprime borrowers\n",
        "- **Young consumers (18-24)** are 2x more likely to use BNPL\n",
        "- **BNPL represents 28%** of total unsecured debt for 18-24 age group when borrowing\n"
      ]
    },
    {
      "cell_type": "markdown",
      "metadata": {},
      "source": [
        "## **4. Loan Stacking & Usage Patterns**\n",
        "\n",
        "### **Simultaneous Borrowing (2021-2022)**\n",
        "| Metric | 2021 | 2022 | Notes |\n",
        "|--------|------|------|-------|\n",
        "| Simultaneous loans (any firm) | 62.8% | 62.7% | **63% average** |\n",
        "| Cross-firm simultaneous loans | 31.7% | 32.6% | **33% average** |\n",
        "| Avg days between originations | 42.4 | 44.8 | Slight increase |\n",
        "| Median days between originations | 27.5 | 29.3 | **~2 weeks typical** |\n",
        "\n",
        "### **Heavy vs. Occasional Users (2022)**\n",
        "| User Type | Share | Median Originations | Median Days Between | Daily Active Loans |\n",
        "|-----------|-------|-------------------|-------------------|-------------------|\n",
        "| Heavy Users (>12 loans/year) | 20.3% | 23 | 13.6 | 2.6 |\n",
        "| Occasional Users (1-12 loans) | 79.7% | 2 | 41.4 | 0.3 |\n",
        "\n",
        "### **Default Rates Comparison**\n",
        "| Age Group | BNPL Default Rate | Credit Card Default Rate (BNPL borrowers) |\n",
        "|-----------|------------------|------------------------------------------|\n",
        "| 18-24 | 2.9% | 7.3% |\n",
        "| 25-33 | 2.4% | 10.4% |\n",
        "| 34-40 | 1.9% | 11.7% |\n",
        "| 41-50 | 1.5% | 11.0% |\n",
        "| 51-64 | 1.5% | 8.7% |\n",
        "| 65+ | 1.4% | 6.3% |\n",
        "| **Overall** | **2.1%** | **10.1%** |\n",
        "\n",
        "**Key Insights:**\n",
        "- **BNPL default rates (2%)** significantly lower than credit cards (10%) for same population\n",
        "- **Automatic repayment** requirement explains low BNPL default rates\n",
        "- **Holiday season** drives simultaneous loan stacking\n"
      ]
    },
    {
      "cell_type": "markdown",
      "metadata": {},
      "source": [
        "## **5. Financial Stress & Debt Burden Analysis**\n",
        "\n",
        "### **Conditional Correlations (2020-2022)**\n",
        "*Controlling for age, credit score, seasonal effects*\n",
        "| Debt Type | Additional Amount Held by BNPL Users | % of Mean | Statistical Significance |\n",
        "|-----------|---------------------------------------|-----------|------------------------|\n",
        "| Credit Card Balances | +$871 | +18.1% | *** (99% confidence) |\n",
        "| Student Loans | +$5,734 | +36.3% | *** (99% confidence) |\n",
        "| Personal Loans | +$453 | +21.6% | *** (99% confidence) |\n",
        "| Retail Loans | +$292 | +36.9% | *** (99% confidence) |\n",
        "| Payday Loans | +$0.37 | +55.9% | *** (99% confidence) |\n",
        "| Other AFS | +$29 | +58.6% | *** (99% confidence) |\n",
        "\n",
        "### **Unsecured Debt by User Type (2022)**\n",
        "| Debt Type | Heavy BNPL Users | Occasional BNPL Users | Non-BNPL Users |\n",
        "|-----------|-------------------|----------------------|-----------------|\n",
        "| Student Loans | $16,800 | $13,200 | $8,400 |\n",
        "| Credit Cards | $4,800 | $4,600 | $4,600 |\n",
        "| Personal Loans | $2,100 | $1,600 | $800 |\n",
        "| Retail Loans | $1,200 | $900 | $600 |\n",
        "| Other AFS | $200 | $100 | $50 |\n",
        "| **Total Unsecured Debt** | **$25,100** | **$20,500** | **$14,450** |\n",
        "\n",
        "### **Credit Utilization Patterns**\n",
        "- **BNPL borrowers**: 60-66% average utilization vs. **Non-BNPL**: 34% average\n",
        "- **Utilization rates increase** in the year before first BNPL use\n",
        "- **Median BNPL borrower**: 70% credit card utilization\n",
        "- **Financial stress indicator**: Utilization rates >30% may negatively impact credit scores\n"
      ]
    },
    {
      "cell_type": "markdown",
      "metadata": {},
      "source": [
        "## **6. Regression Models Framework**\n",
        "\n",
        "### **Model 1: Determinants of BNPL Use**\n",
        "*Binary logistic regression to identify factors predicting BNPL adoption*\n",
        "\n",
        "$$\\begin{align}\n",
        "\\text{BNPL}_i &= \\alpha + \\beta_1 \\text{CreditScore}_i + \\beta_2 \\text{IncomeGroup}_i \\\\\n",
        "&\\quad + \\beta_3 \\text{DebtToIncome}_i + \\beta_4 \\text{AgeGroup}_i + \\beta_5 \\text{Race}_i + \\epsilon_i\n",
        "\\end{align}$$\n",
        "\n",
        "### **Model 2: Credit Risk Impact of BNPL Usage**\n",
        "*Linear regression examining BNPL's effect on delinquency rates*\n",
        "\n",
        "$$\\begin{align}\n",
        "\\text{DelinqRate}_i &= \\alpha + \\beta_1 \\text{BNPLUse}_i + \\beta_2 \\text{CreditScore}_i \\\\\n",
        "&\\quad + \\beta_3 \\text{Utilization}_i + \\beta_4 \\text{Income}_i + u_i\n",
        "\\end{align}$$\n",
        "\n",
        "### **Model 3: Financial Fragility Analysis**\n",
        "*Linear regression modeling liquidity constraints*\n",
        "\n",
        "$$\\begin{align}\n",
        "\\text{Liquidity}_i &= \\alpha + \\beta_1 \\text{BNPLUse}_i + \\beta_2 \\text{IncomeVolatility}_i \\\\\n",
        "&\\quad + \\beta_3 \\text{DebtLoad}_i + \\epsilon_i\n",
        "\\end{align}$$\n",
        "\n",
        "### **Model 4: Cross-Firm Loan Stacking**\n",
        "*Analysis of simultaneous loans across multiple BNPL providers*\n",
        "\n",
        "$$\\begin{align}\n",
        "\\text{CrossFirmStacking}_i &= \\alpha + \\beta_1 \\text{BNPLFrequency}_i + \\beta_2 \\text{CreditScore}_i \\\\\n",
        "&\\quad + \\beta_3 \\text{HolidaySeason}_t + \\beta_4 \\text{AgeGroup}_i + \\epsilon_i\n",
        "\\end{align}$$\n",
        "\n",
        "### **Model 5: Credit Utilization Dynamics**\n",
        "*Panel regression on credit card utilization before/after first BNPL use*\n",
        "\n",
        "$$\\begin{align}\n",
        "\\text{CreditUtilization}_{i,t} &= \\alpha + \\beta_1 \\text{MonthsToFirstBNPL}_i + \\beta_2 \\text{PostBNPL}_i \\\\\n",
        "&\\quad + \\beta_3 \\text{CreditScore}_i + \\beta_4 \\text{AgeGroup}_i + \\gamma_t + \\epsilon_{i,t}\n",
        "\\end{align}$$\n"
      ]
    },
    {
      "cell_type": "markdown",
      "metadata": {},
      "source": [
        "## **7. Data Methodology & Sample Design**\n",
        "\n",
        "### **CFPB Data Collection (2025 Report)**\n",
        "- **Sample Design**: 16% random sample based on day of birth from 6 major BNPL firms\n",
        "- **Firms Included**: Affirm, Afterpay, Klarna, PayPal, Sezzle, Zip\n",
        "- **Time Period**: 2017-2022 (firms began lending 2017-2020)\n",
        "- **Total Applications**: ~145 million BNPL applications\n",
        "- **Matched Dataset**: Consumer Credit Information Panel (CCIP) with credit records\n",
        "\n",
        "### **Sample Characteristics**\n",
        "- **520,000 consumers** per year in matched sample\n",
        "- **Age Range**: 18-70 (born 1953-2006)\n",
        "- **2% match rate** between BNPL data and credit records\n",
        "- **Representative** of U.S. adults with credit records\n",
        "- **Probabilistic matching** used to link de-identified BNPL loans to credit records\n",
        "\n",
        "### **Variable Categories for Analysis**\n",
        "| Category | Example Metrics | Source |\n",
        "|----------|----------------|---------|\n",
        "| BNPL Market Structure | GMV growth, merchant mix, charge-off rate | CFPB 2022, 2025 |\n",
        "| Borrower Risk Profile | Credit score, utilization, debt-to-income | CFPB 2023, 2025 |\n",
        "| Financial Health Controls | Well-being index, income variability, liquidity | CFPB 2022, 2025 |\n",
        "| Outcome Variables | Late fee %, charge-off rate, default incidence | CFPB 2022, 2025 |\n",
        "| Demographic Covariates | Race, gender, income group, age | CFPB 2023, 2025 |\n",
        "| Macro Controls | Inflation, unemployment | FRED, BLS |\n"
      ]
    },
    {
      "cell_type": "markdown",
      "metadata": {},
      "source": [
        "## **8. Policy Implications & Regulatory Concerns**\n",
        "\n",
        "### **Credit Reporting Gap**\n",
        "- **Hidden Debt Problem**: $33.8B in BNPL obligations not visible to other lenders\n",
        "- **Cross-Firm Blind Spots**: 33% of borrowers use multiple providers simultaneously\n",
        "- **Underwriting Challenges**: Other creditors can't see BNPL obligations when making lending decisions\n",
        "- **Regulatory Arbitrage**: BNPL operates outside traditional credit reporting framework\n",
        "\n",
        "### **Consumer Protection Issues**\n",
        "- **Heavy Users**: 20% of borrowers, median 23 loans/year, 2.6 active loans daily\n",
        "- **Subprime Concentration**: 61% of originations to subprime/deep subprime borrowers\n",
        "- **Age Vulnerability**: 18-24 year olds most at risk, BNPL represents 28% of debt when borrowing\n",
        "- **Financial Stress Indicators**: BNPL users hold $871-$5,734 MORE in other unsecured debt\n",
        "\n",
        "### **Market Structure Concerns**\n",
        "- **Counteroffers**: 8 p.p. increase in approval rates (2020 vs. 2022)\n",
        "- **High Approval Rates**: 78% for subprime/deep subprime borrowers\n",
        "- **Seasonal Risk**: Holiday season drives simultaneous loan stacking\n",
        "- **Automatic Repayment**: Required by most BNPL firms (explains low 2% default rate)\n",
        "\n",
        "### **Research Questions for Future Analysis**\n",
        "1. **Causal Identification**: Does BNPL enable debt accumulation or reflect pre-existing financial stress?\n",
        "2. **Credit Substitution**: Does BNPL replace or supplement other credit products?\n",
        "3. **Financial Fragility**: Are BNPL users more vulnerable to economic shocks?\n",
        "4. **Intergenerational Effects**: How does BNPL impact young consumers' long-term financial health?\n"
      ]
    },
    {
      "cell_type": "markdown",
      "metadata": {},
      "source": [
        "## **9. Visualization & Analysis Framework**\n",
        "\n",
        "### **Recommended Visualizations**\n",
        "| Chart Type | Variables | Purpose |\n",
        "|-------------|-----------|----------|\n",
        "| Time Series | GMV, Loan Count, Charge-off rates | Growth & risk evolution |\n",
        "| Histogram | Credit Score by BNPL status | Distributional differences |\n",
        "| Boxplot | Liquidity levels vs BNPL use | Fragility comparison |\n",
        "| Scatter | Approval Rate vs Late Fee % | Moral hazard visualization |\n",
        "| Regression Coeff. Plot | Key β estimates | Visual clarity of determinants |\n",
        "| Heatmap | Age × Credit Score × BNPL adoption | Multi-dimensional risk profiling |\n",
        "\n",
        "### **Methodological Opportunities**\n",
        "- **Natural Experiments**: Merchant partnerships, geographic variation in BNPL availability\n",
        "- **Panel Data Analysis**: Track same consumers before/after first BNPL use\n",
        "- **Instrumental Variables**: Use merchant-specific BNPL rollouts as exogenous variation\n",
        "- **Difference-in-Differences**: Compare outcomes across regions with different BNPL penetration\n",
        "- **Event Studies**: Analyze credit utilization patterns around first BNPL use\n",
        "\n",
        "### **Key Research Hypotheses**\n",
        "1. **Financial Stress Hypothesis**: BNPL use reflects pre-existing credit constraints\n",
        "2. **Debt Accumulation Hypothesis**: BNPL enables higher overall debt levels\n",
        "3. **Substitution Hypothesis**: BNPL replaces traditional credit products\n",
        "4. **Fragility Hypothesis**: BNPL users are more vulnerable to economic shocks\n",
        "5. **Age Gradient Hypothesis**: Younger consumers use BNPL due to limited credit access\n"
      ]
    },
    {
      "cell_type": "markdown",
      "metadata": {},
      "source": [
        "## **10. Summary & Research Framework**\n",
        "\n",
        "### **Key Empirical Findings**\n",
        "1. **Market Explosion**: 10x growth in applications (2019-2022), 79% approval rates\n",
        "2. **Consumer Profile**: 21% adoption rate, 20% heavy users, 61% subprime concentration\n",
        "3. **Financial Patterns**: BNPL users hold significantly more unsecured debt across all categories\n",
        "4. **Age Effects**: 18-24 year olds most vulnerable, BNPL represents 28% of debt when borrowing\n",
        "5. **Credit Dynamics**: Utilization rates increase before first BNPL use, suggesting credit stress\n",
        "\n",
        "### **Regression Models (5 Total)**\n",
        "- **Model 1**: Determinants of BNPL Use (logistic regression)\n",
        "- **Model 2**: Credit Risk Impact of BNPL Usage (linear regression)\n",
        "- **Model 3**: Financial Fragility Analysis (liquidity constraints)\n",
        "- **Model 4**: Cross-Firm Loan Stacking (simultaneous borrowing)\n",
        "- **Model 5**: Credit Utilization Dynamics (panel regression)\n",
        "\n",
        "### **Data Integration**\n",
        "- **CFPB 2022 Report**: Market trends, industry structure, aggregate statistics\n",
        "- **CFPB 2023 Report**: Consumer demographics, credit utilization patterns  \n",
        "- **CFPB 2025 Report**: Comprehensive matched dataset, loan stacking, debt burden analysis\n",
        "- **External Data**: FRED, BLS for macroeconomic controls\n",
        "\n",
        "### **Policy Implications**\n",
        "- **Credit reporting gap**: $33.8B in \"hidden debt\" not visible to other lenders\n",
        "- **Consumer protection**: Heavy users and young borrowers at highest risk\n",
        "- **Regulatory arbitrage**: BNPL operates outside traditional credit reporting framework\n",
        "- **Market structure**: Counteroffers and automatic repayment create unique risk profiles\n",
        "\n",
        "This comprehensive framework provides the foundation for rigorous empirical analysis of BNPL's impact on consumer financial health and market dynamics.\n"
      ]
    },
    {
      "cell_type": "markdown",
      "metadata": {},
      "source": [
        "# 📊 BNPL Statistics & Regression Framework\n",
        "*(Synthesized from CFPB Reports 2022–2023)*\n"
      ]
    },
    {
      "cell_type": "markdown",
      "metadata": {},
      "source": [
        "---\n"
      ]
    },
    {
      "cell_type": "markdown",
      "metadata": {},
      "source": [
        "## **1. Core Data Sources**\n",
        "\n",
        "| Source | Title | Year | Key Variables |\n",
        "|--------|-------|------|---------------|\n",
        "| CFPB (2022) | *Buy Now, Pay Later: Market Trends and Consumer Impacts* | 2022 | Loan growth, charge-off rates, late fees, GMV, industry mix |\n",
        "| CFPB (2023) | *Consumer Use of Buy Now, Pay Later* | 2023 | Demographics, credit utilization, debt levels, delinquencies |\n",
        "| CFPB (2022) | *Making Ends Meet in 2022* | 2022 | Financial well-being, income variability, liquidity, access to credit |\n"
      ]
    },
    {
      "cell_type": "markdown",
      "metadata": {},
      "source": [
        "---\n"
      ]
    },
    {
      "cell_type": "markdown",
      "metadata": {},
      "source": [
        "## **2. Key Descriptive Statistics (BNPL Market)**\n",
        "\n",
        "| Metric | 2019 | 2020 | 2021 | Notes / Trend |\n",
        "|--------|------|------|------|----------------|\n",
        "| BNPL Loans (Five major lenders) | 16.8M | 90M | 180M | ↑ 970% growth |\n",
        "| Dollar Volume (GMV) | $2B | $8.3B | $24.2B | ↑ 1,092% |\n",
        "| Avg Order Value | $121 | $135 | — | +11.6% YoY |\n",
        "| Approval Rate | 69% | 73% | — | Tighter ranking by age cohort |\n",
        "| Late Fee Incidence | 7.8% | 10.5% | — | ↑ 35% |\n",
        "| Charge-off Rate | 2.9% | 3.8% | — | ↑ 31% |\n",
        "| Return/Dispute Rate | 12.2% | 13.7% | — | ↑ 12% |\n",
        "| Consumer Fee Share of Revenue | 11.7% | 13.4% | — | Late fees = 6.9% of revenue |\n"
      ]
    },
    {
      "cell_type": "markdown",
      "metadata": {},
      "source": [
        "---\n"
      ]
    },
    {
      "cell_type": "markdown",
      "metadata": {},
      "source": [
        "## **3. Credit & Financial Health (BNPL Borrowers vs Non-BNPL)**\n",
        "\n",
        "| Variable | BNPL Borrowers | Non-BNPL Borrowers | Source |\n",
        "|-----------|----------------|--------------------|---------|\n",
        "| Credit Card Revolving | 69% | — | CFPB (2023) |\n",
        "| Credit Card Utilization | Higher | Lower |  |\n",
        "| Avg Credit Score | Lower (subprime tilt) | Higher |  |\n",
        "| Delinquency ≥30 days | +11 p.p. higher | — |  |\n",
        "| Use of Payday/Pawn/Overdraft | Higher | Lower |  |\n",
        "| Avg Credit Card APR (Revolvers) | 22–24% | — |  |\n",
        "| Liquidity = 0 (no cushion) | 25% | 25% | both low |\n",
        "| Negative Liquidity (debt > limit) | 6% | 3% |  |\n",
        "| Income Range most likely to use BNPL | $20k–$50k | — |  |\n",
        "| Most Active Demographics | Black, Hispanic, Female | — |  |\n"
      ]
    },
    {
      "cell_type": "markdown",
      "metadata": {},
      "source": [
        "---\n"
      ]
    },
    {
      "cell_type": "markdown",
      "metadata": {},
      "source": [
        "## **4. Macroeconomic & Behavioral Context (Making Ends Meet 2022)**\n",
        "\n",
        "| Indicator | 2019 | 2021 | 2022 | Change |\n",
        "|------------|------|------|------|--------|\n",
        "| Median Financial Well-being Score | 51 | 52.4 | 51.1 | ↓ post-pandemic |\n",
        "| Difficulty Paying Bills | — | 30% | ↑ | Rising |\n",
        "| Households w/ <1 month cushion | — | — | 37% overall; 51% for Black/Hispanic | High fragility |\n",
        "| Variable Income Month-to-Month | — | — | +8% YoY | Volatility ↑ |\n",
        "| Renters Missing Payment | — | — | 31% | Housing stress |\n",
        "| Consumers using high-cost credit (pawn/payday) | — | — | ↑ to pre-pandemic levels | Return to risk products |\n"
      ]
    },
    {
      "cell_type": "markdown",
      "metadata": {},
      "source": [
        "---\n"
      ]
    },
    {
      "cell_type": "markdown",
      "metadata": {},
      "source": [
        "## **5. Dataset Assembly Plan**\n",
        "\n",
        "| Variable Category | Example Metrics | Source |\n",
        "|--------------------|------------------|---------|\n",
        "| **BNPL Market Structure** | GMV growth, merchant mix, average order value, charge-off rate | CFPB 2022 |\n",
        "| **Borrower Risk Profile** | Credit score, card utilization, debt-to-income proxy | CFPB 2023 |\n",
        "| **Financial Health Macro Controls** | Financial well-being index, income variability, liquidity | CFPB 2022 |\n",
        "| **Outcome Variables** | Late fee %, charge-off rate, default incidence | CFPB 2022 |\n",
        "| **Demographic Covariates** | Race, gender, income group | CFPB 2023 |\n",
        "| **Macro Controls** | Inflation, unemployment (external) | FRED, BLS |\n"
      ]
    },
    {
      "cell_type": "markdown",
      "metadata": {},
      "source": [
        "---\n"
      ]
    },
    {
      "cell_type": "markdown",
      "metadata": {},
      "source": [
        "## **6. Possible Regression Models**\n"
      ]
    },
    {
      "cell_type": "markdown",
      "metadata": {},
      "source": [
        "### **Model 1: Determinants of BNPL Use**\n",
        "*Binary logistic regression to identify factors predicting BNPL adoption*\n",
        "\n",
        "$$\\begin{align}\n",
        "\\text{BNPL}_i &= \\alpha + \\beta_1 \\text{CreditScore}_i + \\beta_2 \\text{IncomeGroup}_i \\\\\n",
        "&\\quad + \\beta_3 \\text{DebtToIncome}_i + \\beta_4 \\text{AgeGroup}_i + \\beta_5 \\text{Race}_i + \\epsilon_i\n",
        "\\end{align}$$\n",
        "\n",
        "**Variables:**\n",
        "- `BNPL_i`: Binary indicator (1 if individual i uses BNPL, 0 otherwise)\n",
        "- `CreditScore_i`: FICO score or credit score proxy\n",
        "- `IncomeGroup_i`: Categorical income brackets\n",
        "- `DebtToIncome_i`: Debt-to-income ratio\n",
        "- `AgeGroup_i`: Age cohort dummies\n",
        "- `Race_i`: Racial/ethnic group dummies\n"
      ]
    },
    {
      "cell_type": "markdown",
      "metadata": {},
      "source": [
        "---\n"
      ]
    },
    {
      "cell_type": "markdown",
      "metadata": {},
      "source": [
        "### **Model 2: Credit Risk Impact of BNPL Usage**\n",
        "*Linear regression examining BNPL's effect on delinquency rates*\n",
        "\n",
        "$$\\begin{align}\n",
        "\\text{DelinqRate}_i &= \\alpha + \\beta_1 \\text{BNPLUse}_i + \\beta_2 \\text{CreditScore}_i \\\\\n",
        "&\\quad + \\beta_3 \\text{Utilization}_i + \\beta_4 \\text{Income}_i + u_i\n",
        "\\end{align}$$\n",
        "\n",
        "**Variables:**\n",
        "- `DelinqRate_i`: 30+ day delinquency rate for individual i\n",
        "- `BNPLUse_i`: Binary indicator for BNPL usage\n",
        "- `Utilization_i`: Credit card utilization ratio\n",
        "- `Income_i`: Annual household income\n"
      ]
    },
    {
      "cell_type": "markdown",
      "metadata": {},
      "source": [
        "---\n"
      ]
    },
    {
      "cell_type": "markdown",
      "metadata": {},
      "source": [
        "### **Model 3: Overextension / Financial Fragility**\n",
        "*Linear regression modeling liquidity constraints*\n",
        "\n",
        "$$\\begin{align}\n",
        "\\text{Liquidity}_i &= \\alpha + \\beta_1 \\text{BNPLUse}_i + \\beta_2 \\text{IncomeVolatility}_i \\\\\n",
        "&\\quad + \\beta_3 \\text{DebtLoad}_i + \\epsilon_i\n",
        "\\end{align}$$\n",
        "\n",
        "**Variables:**\n",
        "- `Liquidity_i`: Months of expenses covered by liquid assets\n",
        "- `IncomeVolatility_i`: Coefficient of variation in monthly income\n",
        "- `DebtLoad_i`: Total debt service-to-income ratio\n"
      ]
    },
    {
      "cell_type": "markdown",
      "metadata": {},
      "source": [
        "---\n"
      ]
    },
    {
      "cell_type": "markdown",
      "metadata": {},
      "source": [
        "### **Model 4: Cross-Sectional Regression by Industry Mix**\n",
        "*Time-series regression on aggregate BNPL performance*\n",
        "\n",
        "$$\\begin{align}\n",
        "\\text{ChargeOffRate}_t &= \\alpha + \\beta_1 \\text{ApparelShare}_t + \\beta_2 \\text{NecessityShare}_t \\\\\n",
        "&\\quad + \\beta_3 \\text{GMVGrowth}_t + \\epsilon_t\n",
        "\\end{align}$$\n",
        "\n",
        "**Variables:**\n",
        "- `ChargeOffRate_t`: Industry-wide charge-off rate in period t\n",
        "- `ApparelShare_t`: Share of BNPL volume in apparel/fashion\n",
        "- `NecessityShare_t`: Share of BNPL volume in necessities\n",
        "- `GMVGrowth_t`: Year-over-year growth in gross merchandise value\n"
      ]
    },
    {
      "cell_type": "markdown",
      "metadata": {},
      "source": [
        "---\n"
      ]
    },
    {
      "cell_type": "markdown",
      "metadata": {},
      "source": [
        "### **Model 5: Late Fee Incidence Regression**\n",
        "*Panel regression on late fee patterns*\n",
        "\n",
        "$$\\begin{align}\n",
        "\\text{LateFeeRate}_t &= \\alpha + \\beta_1 \\text{ApprovalRate}_t + \\beta_2 \\text{CreditScoreDist}_t \\\\\n",
        "&\\quad + \\beta_3 \\text{GMV}_t + \\beta_4 \\text{YearDummy}_t + \\epsilon_t\n",
        "\\end{align}$$\n",
        "\n",
        "**Variables:**\n",
        "- `LateFeeRate_t`: Percentage of loans incurring late fees\n",
        "- `ApprovalRate_t`: Overall approval rate for BNPL applications\n",
        "- `CreditScoreDist_t`: Distributional measure of borrower credit scores\n",
        "- `YearDummy_t`: Time fixed effects\n"
      ]
    },
    {
      "cell_type": "markdown",
      "metadata": {},
      "source": [
        "---\n"
      ]
    },
    {
      "cell_type": "markdown",
      "metadata": {},
      "source": [
        "### **Model 6: BNPL vs. Credit Card Cost Differential**\n",
        "*Cost-benefit analysis of BNPL vs. traditional credit*\n",
        "\n",
        "**Step 1: Calculate Cost Savings**\n",
        "$$\\text{CostSaving}_i = r_{CC,i} \\times \\text{PurchaseValue}_i - \\text{BNPLFee}_i$$\n",
        "\n",
        "**Step 2: Regression on Cost Savings**\n",
        "$$\\begin{align}\n",
        "\\text{CostSaving}_i &= \\alpha + \\beta_1 \\text{CreditScore}_i + \\beta_2 \\text{BNPLUse}_i \\\\\n",
        "&\\quad + \\beta_3 \\text{PurchaseValue}_i + \\epsilon_i\n",
        "\\end{align}$$\n",
        "\n",
        "**Variables:**\n",
        "- `CostSaving_i`: Net cost difference (CC interest - BNPL fees)\n",
        "- `r_{CC,i}`: Individual's credit card APR\n",
        "- `PurchaseValue_i`: Transaction amount\n",
        "- `BNPLFee_i`: Total BNPL fees paid\n"
      ]
    },
    {
      "cell_type": "markdown",
      "metadata": {},
      "source": [
        "---\n"
      ]
    },
    {
      "cell_type": "markdown",
      "metadata": {},
      "source": [
        "## **7. Visualization Ideas**\n",
        "\n",
        "| Chart Type | Variable | Purpose |\n",
        "|-------------|-----------|----------|\n",
        "| Time Series | GMV, Loan Count, Charge-off | Growth & risk evolution |\n",
        "| Histogram | Credit Score by BNPL status | Distributional differences |\n",
        "| Boxplot | Liquidity levels vs BNPL use | Fragility comparison |\n",
        "| Scatter | Approval Rate vs Late Fee % | Moral hazard visualization |\n",
        "| Regression Coeff. Plot | Key β estimates | Visual clarity of determinants |\n"
      ]
    },
    {
      "cell_type": "markdown",
      "metadata": {},
      "source": [
        "---\n"
      ]
    },
    {
      "cell_type": "markdown",
      "metadata": {},
      "source": [
        "\n",
        "### **Key Market Growth Statistics (2019-2022)**\n",
        "\n",
        "| Metric | 2019 | 2020 | 2021 | 2022 | Growth |\n",
        "|--------|------|------|------|------|--------|\n",
        "| Daily Applications | ~100K | — | — | >1M | **10x+ growth** |\n",
        "| Approval Rate | 56% | 67% | 78% | 79% | **+23 p.p.** |\n",
        "| Consumer Adoption | — | — | 17.6% | 21.2% | **+3.6 p.p.** |\n",
        "| Heavy Users (% of borrowers) | — | — | 18% | 20% | **+2 p.p.** |\n",
        "| Avg Annual Originations per Borrower | — | — | 8.5 | 9.5 | **+12%** |\n"
      ]
    },
    {
      "cell_type": "markdown",
      "metadata": {},
      "source": [
        "### **Loan Stacking and Simultaneous Borrowing**\n",
        "\n",
        "| Metric | 2021 | 2022 | Notes |\n",
        "|--------|------|------|-------|\n",
        "| Borrowers with simultaneous loans (any firm) | 62.8% | 62.7% | **63% average** |\n",
        "| Borrowers with loans across multiple firms | 31.7% | 32.6% | **33% average** |\n",
        "| Avg days between originations | 42.4 | 44.8 | Slight increase |\n",
        "| Median days between originations | 27.5 | 29.3 | **~2 weeks typical** |\n",
        "\n",
        "**Heavy vs. Occasional Users (2022):**\n",
        "- **Heavy Users (20% of borrowers)**: Originate >12 loans/year, median 23 loans, ~2.6 active loans daily\n",
        "- **Occasional Users (80% of borrowers)**: Originate 1-12 loans/year, median 2 loans, ~0.3 active loans daily\n"
      ]
    },
    {
      "cell_type": "markdown",
      "metadata": {},
      "source": [
        "### **Credit Score Distribution and Approval Rates**\n",
        "\n",
        "| FICO Score Category | Share of Originations (2021-2022) | Default Rate | Approval Rate (2022) |\n",
        "|---------------------|-----------------------------------|--------------|---------------------|\n",
        "| **Deep Subprime (300-579)** | 45.0% | 3.5% | 78% |\n",
        "| **Subprime (580-619)** | 16.0% | 1.1% | 78% |\n",
        "| **Near Prime (620-659)** | 12.7% | 0.8% | — |\n",
        "| **Prime (660-719)** | 13.2% | 0.7% | — |\n",
        "| **Super Prime (720-850)** | 9.1% | 0.8% | — |\n",
        "| **No FICO Score** | 3.9% | 4.1% | 62% |\n",
        "\n",
        "**Key Insights:**\n",
        "- **61% of BNPL originations** go to subprime/deep subprime borrowers\n",
        "- **Counteroffers** increased approval rates by ~8 p.p. in 2022 vs. 2020\n",
        "- **Overall BNPL default rate: 2%** vs. **Credit card default rate: 10%** (same population)\n"
      ]
    },
    {
      "cell_type": "markdown",
      "metadata": {},
      "source": [
        "### **Unsecured Debt Burden Analysis**\n",
        "\n",
        "**Average Monthly Unsecured Debt by BNPL User Type (2022):**\n",
        "\n",
        "| Debt Type | Heavy BNPL Users | Occasional BNPL Users | Non-BNPL Users |\n",
        "|-----------|-------------------|----------------------|-----------------|\n",
        "| **Student Loans** | $16,800 | $13,200 | $8,400 |\n",
        "| **Credit Cards** | $4,800 | $4,600 | $4,600 |\n",
        "| **Personal Loans** | $2,100 | $1,600 | $800 |\n",
        "| **Retail Loans** | $1,200 | $900 | $600 |\n",
        "| **Other AFS** | $200 | $100 | $50 |\n",
        "| **Total Unsecured Debt** | **$25,100** | **$20,500** | **$14,450** |\n",
        "\n",
        "**BNPL Share of Total Debt:**\n",
        "- **Heavy Users**: BNPL = 2% of total unsecured debt\n",
        "- **Occasional Users**: BNPL = 1% of total unsecured debt  \n",
        "- **In active borrowing months**: BNPL = 17% of unsecured debt (average)\n"
      ]
    },
    {
      "cell_type": "markdown",
      "metadata": {},
      "source": [
        "### **Age-Based Analysis and Credit Utilization**\n",
        "\n",
        "| Age Group | BNPL Adoption Rate | Avg Unsecured Debt | BNPL Share of Debt (when borrowing) | Credit Card Utilization |\n",
        "|-----------|-------------------|-------------------|-------------------------------------|------------------------|\n",
        "| **18-24** | 37.1% | $9,068 | 27.9% | **70%+** |\n",
        "| **25-33** | 33.6% | $20,486 | 16.6% | **65%+** |\n",
        "| **34-40** | 28.7% | $25,425 | 16.0% | **60%+** |\n",
        "| **41-50** | 19.1% | $28,991 | 14.1% | **55%+** |\n",
        "| **51-64** | 9.9% | $26,453 | 14.2% | **50%+** |\n",
        "| **65+** | 5.9% | $17,352 | 15.5% | **45%+** |\n",
        "\n",
        "**Key Patterns:**\n",
        "- **Younger consumers** (18-24) are **2x more likely** to use BNPL\n",
        "- **Credit card utilization increases** in the year before first BNPL use\n",
        "- **BNPL borrowers**: 60-66% avg utilization vs. **Non-BNPL**: 34% avg utilization\n",
        "- **BNPL represents 28%** of total unsecured debt for 18-24 age group when actively borrowing\n"
      ]
    },
    {
      "cell_type": "markdown",
      "metadata": {},
      "source": [
        "### **Conditional Correlations: BNPL Use vs. Other Debt Types**\n",
        "\n",
        "*Controlling for age, credit score, and seasonal effects (2020-2022)*\n",
        "\n",
        "| Debt Type | Additional Amount Held by BNPL Users | % of Mean | Statistical Significance |\n",
        "|-----------|---------------------------------------|-----------|------------------------|\n",
        "| **Credit Card Balances** | +$871 | +18.1% | *** (99% confidence) |\n",
        "| **Student Loans** | +$5,734 | +36.3% | *** (99% confidence) |\n",
        "| **Personal Loans** | +$453 | +21.6% | *** (99% confidence) |\n",
        "| **Retail Loans** | +$292 | +36.9% | *** (99% confidence) |\n",
        "| **Payday Loans** | +$0.37 | +55.9% | *** (99% confidence) |\n",
        "| **Other AFS** | +$29 | +58.6% | *** (99% confidence) |\n",
        "\n",
        "**Interpretation:** BNPL users hold significantly higher balances across ALL unsecured debt categories, suggesting either:\n",
        "1. **BNPL enables** higher overall debt accumulation, OR\n",
        "2. **Financial stress** drives both BNPL use and higher debt levels\n",
        "3. **Selection effect**: Financially constrained consumers use BNPL more\n"
      ]
    },
    {
      "cell_type": "markdown",
      "metadata": {},
      "source": [
        "---\n"
      ]
    },
    {
      "cell_type": "markdown",
      "metadata": {},
      "source": [
        "## **10. Updated Key Takeaways (2025)**\n",
        "\n",
        "### **Market Evolution (2019-2022):**\n",
        "- **Explosive Growth**: Daily applications grew **10x** (100K → 1M+)\n",
        "- **Approval Rate Surge**: From 56% to 79% (+23 percentage points)\n",
        "- **Consumer Adoption**: 21% of credit-record consumers used BNPL in 2022\n",
        "- **Heavy Usage**: 20% of borrowers are \"heavy users\" (>12 loans/year)\n",
        "\n",
        "### **Risk Profile Insights:**\n",
        "- **Subprime Concentration**: 61% of originations go to subprime/deep subprime borrowers\n",
        "- **Loan Stacking**: 63% of borrowers have simultaneous loans; 33% across multiple firms\n",
        "- **Low Default Rates**: BNPL defaults (2%) vs. credit cards (10%) for same population\n",
        "- **High Credit Utilization**: BNPL borrowers average 60-66% vs. 34% for non-users\n",
        "\n",
        "### **Financial Fragility Indicators:**\n",
        "- **Debt Accumulation**: BNPL users hold $871-$5,734 MORE in other unsecured debt\n",
        "- **Age Gradient**: 18-24 year olds 2x more likely to use BNPL, represent 28% of debt when borrowing\n",
        "- **Credit Stress**: Utilization rates increase in year before first BNPL use\n",
        "- **Cross-Product Usage**: BNPL users more likely to use payday loans, personal loans, etc.\n",
        "\n",
        "### **Research Implications:**\n",
        "- **Perfect natural experiment** for studying credit access vs. debt accumulation\n",
        "- **Causal identification** needed: Does BNPL enable debt or reflect financial stress?\n",
        "- **Regulatory implications** for consumer protection and credit reporting\n",
        "- **Macroeconomic significance**: $34B GMV represents ~1% of credit card spending\n"
      ]
    },
    {
      "cell_type": "markdown",
      "metadata": {},
      "source": [
        "## **11. Data Methodology & Sample Details**\n",
        "\n",
        "### **CFPB Data Collection (January 2025 Report)**\n",
        "\n",
        "**Sample Design:**\n",
        "- **16% random sample** based on day of birth from 6 major BNPL firms\n",
        "- **Firms included**: Affirm, Afterpay, Klarna, PayPal, Sezzle, Zip\n",
        "- **Time period**: 2017-2022 (firms began lending 2017-2020)\n",
        "- **Total applications**: ~145 million BNPL applications\n",
        "- **Matched to credit records**: Consumer Credit Information Panel (CCIP)\n",
        "\n",
        "**2022 Market Scale (Scaled from sample):**\n",
        "- **401.9 million** total applications\n",
        "- **277.3 million** originated loans  \n",
        "- **$33.8 billion** gross merchandise value\n",
        "- **~1%** of total credit card spending\n",
        "\n",
        "**Sample Characteristics:**\n",
        "- **520,000 consumers** per year in matched sample\n",
        "- **Age range**: 18-70 (born 1953-2006)\n",
        "- **2% match rate** between BNPL data and credit records\n",
        "- **Representative** of U.S. adults with credit records\n"
      ]
    },
    {
      "cell_type": "markdown",
      "metadata": {},
      "source": [
        "### **Enhanced Regression Framework with CFPB Data**\n",
        "\n",
        "**Model 7: Heavy vs. Occasional User Analysis**\n",
        "*Logistic regression distinguishing heavy users (>12 loans/year) from occasional users*\n",
        "\n",
        "$$\\begin{align}\n",
        "\\text{HeavyUser}_i &= \\alpha + \\beta_1 \\text{CreditScore}_i + \\beta_2 \\text{AgeGroup}_i + \\beta_3 \\text{StudentLoanBalance}_i \\\\\n",
        "&\\quad + \\beta_4 \\text{CreditCardUtilization}_i + \\beta_5 \\text{PersonalLoanBalance}_i + \\epsilon_i\n",
        "\\end{align}$$\n",
        "\n",
        "**Model 8: Cross-Firm Loan Stacking**\n",
        "*Analysis of simultaneous loans across multiple BNPL providers*\n",
        "\n",
        "$$\\begin{align}\n",
        "\\text{CrossFirmStacking}_i &= \\alpha + \\beta_1 \\text{BNPLFrequency}_i + \\beta_2 \\text{CreditScore}_i \\\\\n",
        "&\\quad + \\beta_3 \\text{HolidaySeason}_t + \\beta_4 \\text{AgeGroup}_i + \\epsilon_i\n",
        "\\end{align}$$\n",
        "\n",
        "**Model 9: Credit Utilization Dynamics**\n",
        "*Panel regression on credit card utilization before/after first BNPL use*\n",
        "\n",
        "$$\\begin{align}\n",
        "\\text{CreditUtilization}_{i,t} &= \\alpha + \\beta_1 \\text{MonthsToFirstBNPL}_i + \\beta_2 \\text{PostBNPL}_i \\\\\n",
        "&\\quad + \\beta_3 \\text{CreditScore}_i + \\beta_4 \\text{AgeGroup}_i + \\gamma_t + \\epsilon_{i,t}\n",
        "\\end{align}$$\n"
      ]
    },
    {
      "cell_type": "markdown",
      "metadata": {},
      "source": [
        "### **Key Policy & Regulatory Implications**\n",
        "\n",
        "**Credit Reporting Gap:**\n",
        "- **BNPL loans not reported** to credit bureaus (Equifax, Experian, TransUnion)\n",
        "- **\"Hidden debt\"** problem: $33.8B in unobserved consumer obligations\n",
        "- **Cross-firm stacking**: 33% of borrowers use multiple providers simultaneously\n",
        "- **Underwriting blind spots**: Other lenders can't see BNPL obligations\n",
        "\n",
        "**Consumer Protection Concerns:**\n",
        "- **Heavy users**: 20% of borrowers, median 23 loans/year, 2.6 active loans daily\n",
        "- **Subprime concentration**: 61% of originations to subprime/deep subprime borrowers\n",
        "- **Financial stress indicators**: BNPL users hold $871-$5,734 MORE in other unsecured debt\n",
        "- **Age vulnerability**: 18-24 year olds 2x more likely to use BNPL, 28% of debt when borrowing\n",
        "\n",
        "**Market Structure Issues:**\n",
        "- **Counteroffers**: 8 p.p. increase in approval rates (2020 vs. 2022)\n",
        "- **Approval rates**: 78% for subprime/deep subprime borrowers\n",
        "- **Seasonal spikes**: Holiday season drives simultaneous loan stacking\n",
        "- **Automatic repayment**: Required by most BNPL firms (explains low 2% default rate)\n"
      ]
    },
    {
      "cell_type": "markdown",
      "metadata": {},
      "source": [
        "## **13. CFPB January 2025 Report - Data Extraction**\n",
        "\n",
        "### **Market Scale & Growth (2019-2022)**\n",
        "\n",
        "| Metric | 2019 | 2020 | 2021 | 2022 | Notes |\n",
        "|--------|------|------|------|------|-------|\n",
        "| **Daily Applications** | ~100K | — | — | >1M | **10x+ growth** |\n",
        "| **Approval Rate** | 56% | 67% | 78% | 79% | **+23 p.p.** |\n",
        "| **Consumer Adoption** | — | — | 17.6% | 21.2% | **+3.6 p.p.** |\n",
        "| **Heavy Users (% of borrowers)** | — | — | 18% | 20% | **+2 p.p.** |\n",
        "| **Avg Annual Originations per Borrower** | — | — | 8.5 | 9.5 | **+12%** |\n",
        "| **Avg Transaction Amount** | — | — | $141 | $142 | CPI adjusted |\n",
        "| **Median Transaction Amount** | — | — | $110 | $108 | CPI adjusted |\n",
        "\n",
        "### **2022 Market Scale (Scaled from 16% Sample)**\n",
        "\n",
        "| Metric | Raw Sample | Scaled Aggregate |\n",
        "|--------|------------|------------------|\n",
        "| **Loan Applications** | 66.1M | 401.9M |\n",
        "| **Originated Loans** | 45.6M | 277.3M |\n",
        "| **Gross Merchandise Value** | $5.6B | $33.8B |\n",
        "| **% of Credit Card Spending** | — | ~1% |\n"
      ]
    }
  ],
  "metadata": {
    "language_info": {
      "name": "python"
    }
  },
  "nbformat": 4,
  "nbformat_minor": 2
}
