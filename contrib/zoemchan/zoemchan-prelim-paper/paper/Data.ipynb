{
 "cells": [
  {
   "cell_type": "code",
   "execution_count": 1,
   "id": "ee57b050-40d7-430a-b04c-d3d036ebf6f6",
   "metadata": {},
   "outputs": [],
   "source": [
    "# Import Redlining Data"
   ]
  },
  {
   "cell_type": "code",
   "execution_count": 2,
   "id": "849b0e82-63ce-45fd-9ab9-253fd938f594",
   "metadata": {},
   "outputs": [],
   "source": [
    "## get Aarronson replication data to work from https://www.aeaweb.org/articles?id=10.1257/pol.20190414"
   ]
  },
  {
   "cell_type": "code",
   "execution_count": 3,
   "id": "d29fb8a4-c319-4311-b429-f6a22a4db160",
   "metadata": {},
   "outputs": [
    {
     "name": "stdout",
     "output_type": "stream",
     "text": [
      "HOLC polygons loaded for Chicago: 703\n"
     ]
    },
    {
     "data": {
      "text/html": [
       "<div>\n",
       "<style scoped>\n",
       "    .dataframe tbody tr th:only-of-type {\n",
       "        vertical-align: middle;\n",
       "    }\n",
       "\n",
       "    .dataframe tbody tr th {\n",
       "        vertical-align: top;\n",
       "    }\n",
       "\n",
       "    .dataframe thead th {\n",
       "        text-align: right;\n",
       "    }\n",
       "</style>\n",
       "<table border=\"1\" class=\"dataframe\">\n",
       "  <thead>\n",
       "    <tr style=\"text-align: right;\">\n",
       "      <th></th>\n",
       "      <th>area_id</th>\n",
       "      <th>grade</th>\n",
       "      <th>geometry</th>\n",
       "    </tr>\n",
       "  </thead>\n",
       "  <tbody>\n",
       "    <tr>\n",
       "      <th>2014</th>\n",
       "      <td>11474</td>\n",
       "      <td>C</td>\n",
       "      <td>POLYGON ((-87.86999 41.8197, -87.87006 41.8233...</td>\n",
       "    </tr>\n",
       "    <tr>\n",
       "      <th>2015</th>\n",
       "      <td>1065</td>\n",
       "      <td>A</td>\n",
       "      <td>MULTIPOLYGON (((-87.83054 42.25361, -87.82979 ...</td>\n",
       "    </tr>\n",
       "    <tr>\n",
       "      <th>2016</th>\n",
       "      <td>1091</td>\n",
       "      <td>A</td>\n",
       "      <td>MULTIPOLYGON (((-87.76217 42.12934, -87.76233 ...</td>\n",
       "    </tr>\n",
       "    <tr>\n",
       "      <th>2017</th>\n",
       "      <td>1097</td>\n",
       "      <td>A</td>\n",
       "      <td>MULTIPOLYGON (((-87.75082 42.13867, -87.75053 ...</td>\n",
       "    </tr>\n",
       "    <tr>\n",
       "      <th>2018</th>\n",
       "      <td>1098</td>\n",
       "      <td>A</td>\n",
       "      <td>MULTIPOLYGON (((-87.74436 42.12695, -87.74135 ...</td>\n",
       "    </tr>\n",
       "  </tbody>\n",
       "</table>\n",
       "</div>"
      ],
      "text/plain": [
       "      area_id grade                                           geometry\n",
       "2014    11474     C  POLYGON ((-87.86999 41.8197, -87.87006 41.8233...\n",
       "2015     1065     A  MULTIPOLYGON (((-87.83054 42.25361, -87.82979 ...\n",
       "2016     1091     A  MULTIPOLYGON (((-87.76217 42.12934, -87.76233 ...\n",
       "2017     1097     A  MULTIPOLYGON (((-87.75082 42.13867, -87.75053 ...\n",
       "2018     1098     A  MULTIPOLYGON (((-87.74436 42.12695, -87.74135 ..."
      ]
     },
     "metadata": {},
     "output_type": "display_data"
    },
    {
     "name": "stdout",
     "output_type": "stream",
     "text": [
      "Created buffer zones of 402 meters around each HOLC area.\n"
     ]
    },
    {
     "data": {
      "text/html": [
       "<div>\n",
       "<style scoped>\n",
       "    .dataframe tbody tr th:only-of-type {\n",
       "        vertical-align: middle;\n",
       "    }\n",
       "\n",
       "    .dataframe tbody tr th {\n",
       "        vertical-align: top;\n",
       "    }\n",
       "\n",
       "    .dataframe thead th {\n",
       "        text-align: right;\n",
       "    }\n",
       "</style>\n",
       "<table border=\"1\" class=\"dataframe\">\n",
       "  <thead>\n",
       "    <tr style=\"text-align: right;\">\n",
       "      <th></th>\n",
       "      <th>area_id</th>\n",
       "      <th>grade</th>\n",
       "      <th>geometry</th>\n",
       "    </tr>\n",
       "  </thead>\n",
       "  <tbody>\n",
       "    <tr>\n",
       "      <th>2014</th>\n",
       "      <td>11474</td>\n",
       "      <td>C</td>\n",
       "      <td>POLYGON ((426501.391 4631102.169, 426501.357 4...</td>\n",
       "    </tr>\n",
       "    <tr>\n",
       "      <th>2015</th>\n",
       "      <td>1065</td>\n",
       "      <td>A</td>\n",
       "      <td>POLYGON ((430989.571 4678536.142, 430973.129 4...</td>\n",
       "    </tr>\n",
       "    <tr>\n",
       "      <th>2016</th>\n",
       "      <td>1091</td>\n",
       "      <td>A</td>\n",
       "      <td>POLYGON ((436051.194 4664575.432, 436017.698 4...</td>\n",
       "    </tr>\n",
       "    <tr>\n",
       "      <th>2017</th>\n",
       "      <td>1097</td>\n",
       "      <td>A</td>\n",
       "      <td>POLYGON ((437691.579 4665139.54, 437664.869 46...</td>\n",
       "    </tr>\n",
       "    <tr>\n",
       "      <th>2018</th>\n",
       "      <td>1098</td>\n",
       "      <td>A</td>\n",
       "      <td>POLYGON ((437876.497 4664646.627, 437715.765 4...</td>\n",
       "    </tr>\n",
       "  </tbody>\n",
       "</table>\n",
       "</div>"
      ],
      "text/plain": [
       "      area_id grade                                           geometry\n",
       "2014    11474     C  POLYGON ((426501.391 4631102.169, 426501.357 4...\n",
       "2015     1065     A  POLYGON ((430989.571 4678536.142, 430973.129 4...\n",
       "2016     1091     A  POLYGON ((436051.194 4664575.432, 436017.698 4...\n",
       "2017     1097     A  POLYGON ((437691.579 4665139.54, 437664.869 46...\n",
       "2018     1098     A  POLYGON ((437876.497 4664646.627, 437715.765 4..."
      ]
     },
     "metadata": {},
     "output_type": "display_data"
    }
   ],
   "source": [
    "import os\n",
    "import geopandas as gpd\n",
    "import pandas as pd\n",
    "\n",
    "# Fix PROJ path if needed (for coordinate transforms)\n",
    "os.environ[\"PROJ_LIB\"] = \"/home/idies/mambaforge/envs/econark/share/proj\"\n",
    "\n",
    "# === 1. Load HOLC data ===\n",
    "holc = gpd.read_file(\"mappinginequality.gpkg\")\n",
    "\n",
    "# === 2. Filter for Chicago ===\n",
    "holc_chi = holc[holc[\"city\"].str.contains(\"Chicago\", case=False, na=False)].copy()\n",
    "print(f\"HOLC polygons loaded for Chicago: {len(holc_chi)}\")\n",
    "\n",
    "# Keep relevant columns\n",
    "holc_chi = holc_chi[[\"area_id\", \"grade\", \"geometry\"]]\n",
    "\n",
    "# Display a preview table\n",
    "display(holc_chi.head())\n",
    "\n",
    "# === 3. Ensure coordinate system is projected in meters ===\n",
    "# This step is required for buffer distances\n",
    "holc_chi = holc_chi.to_crs(epsg=26916)  # NAD83 / UTM zone 16N (covers Chicago region)\n",
    "\n",
    "# === 4. Create 0.25-mile (≈402 meters) buffers around each HOLC boundary ===\n",
    "buffer_distance = 402  # meters\n",
    "holc_buffers = holc_chi.copy()\n",
    "holc_buffers[\"geometry\"] = holc_buffers.buffer(buffer_distance)\n",
    "\n",
    "print(f\"Created buffer zones of {buffer_distance} meters around each HOLC area.\")\n",
    "\n",
    "# Preview buffers (optional)\n",
    "display(holc_buffers.head())\n",
    "\n",
    "# === 5. (Optional) Save buffers for reference ===\n",
    "holc_buffers.to_file(\"holc_chicago_buffers.geojson\", driver=\"GeoJSON\")\n"
   ]
  },
  {
   "cell_type": "code",
   "execution_count": 4,
   "id": "bc3bca5a-d346-4d3e-a03a-347a9f7f6fd2",
   "metadata": {},
   "outputs": [],
   "source": [
    "# Table 1\n",
    "## There are 703 mapped areas (neighborhood polygons) in Chicago that were graded by the Home Owners’ Loan Corporation (HOLC) in the 1930s.\n",
    "## Each of these polygons corresponds to a distinct neighborhood “area” on the redlining map.\n",
    "\n",
    "# Table 2\n",
    "## created 0.25-mile buffer polygons (≈402 meters) around each HOLC area.\n",
    "## The geometry numbers are now in meters, not degrees**,** because we switched to a projected coordinate system — this allows accurate measurement of distances like “0.25 miles.”"
   ]
  },
  {
   "cell_type": "code",
   "execution_count": null,
   "id": "f7aca96c-4e46-4b90-a0eb-441b3ad44e10",
   "metadata": {},
   "outputs": [],
   "source": [
    "# Import School Data"
   ]
  },
  {
   "cell_type": "code",
   "execution_count": null,
   "id": "7ae03233-774e-4d2f-afe4-3ff16f14ac57",
   "metadata": {},
   "outputs": [],
   "source": []
  }
 ],
 "metadata": {
  "kernelspec": {
   "display_name": "econark",
   "language": "python",
   "name": "econark"
  },
  "language_info": {
   "codemirror_mode": {
    "name": "ipython",
    "version": 3
   },
   "file_extension": ".py",
   "mimetype": "text/x-python",
   "name": "python",
   "nbconvert_exporter": "python",
   "pygments_lexer": "ipython3",
   "version": "3.11.10"
  }
 },
 "nbformat": 4,
 "nbformat_minor": 5
}
